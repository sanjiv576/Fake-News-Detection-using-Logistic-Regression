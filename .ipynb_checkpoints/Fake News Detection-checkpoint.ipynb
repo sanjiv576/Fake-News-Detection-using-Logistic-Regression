{
 "cells": [
  {
   "cell_type": "code",
   "execution_count": 1,
   "id": "fd768c2a",
   "metadata": {},
   "outputs": [],
   "source": [
    "import numpy as np\n",
    "import pandas as pd\n",
    "import re\n",
    "from nltk.corpus import stopwords \n",
    "from nltk.stem.porter import PorterStemmer \n",
    "from sklearn.feature_extraction.text import TfidfVectorizer\n",
    "from sklearn.model_selection import train_test_split\n",
    "from sklearn.linear_model import LogisticRegression\n",
    "from sklearn.metrics import accuracy_score\n",
    "\n",
    "from wordcloud import WordCloud"
   ]
  },
  {
   "cell_type": "code",
   "execution_count": 2,
   "id": "6db74d7e",
   "metadata": {},
   "outputs": [],
   "source": [
    "news = pd.read_csv(\"data.csv\")"
   ]
  },
  {
   "cell_type": "markdown",
   "id": "995b70f1",
   "metadata": {},
   "source": [
    "## EDA "
   ]
  },
  {
   "cell_type": "code",
   "execution_count": 3,
   "id": "36ef13a1",
   "metadata": {},
   "outputs": [
    {
     "name": "stdout",
     "output_type": "stream",
     "text": [
      "<class 'pandas.core.frame.DataFrame'>\n",
      "RangeIndex: 4009 entries, 0 to 4008\n",
      "Data columns (total 4 columns):\n",
      " #   Column    Non-Null Count  Dtype \n",
      "---  ------    --------------  ----- \n",
      " 0   URLs      4009 non-null   object\n",
      " 1   Headline  4009 non-null   object\n",
      " 2   Body      3988 non-null   object\n",
      " 3   Label     4009 non-null   int64 \n",
      "dtypes: int64(1), object(3)\n",
      "memory usage: 125.4+ KB\n"
     ]
    }
   ],
   "source": [
    "news.info()"
   ]
  },
  {
   "cell_type": "markdown",
   "id": "0c619106",
   "metadata": {},
   "source": [
    "#### Above describes, the dataset contains 4 attributes and 4009 number of rows "
   ]
  },
  {
   "cell_type": "code",
   "execution_count": 4,
   "id": "e6243341",
   "metadata": {},
   "outputs": [
    {
     "data": {
      "text/html": [
       "<div>\n",
       "<style scoped>\n",
       "    .dataframe tbody tr th:only-of-type {\n",
       "        vertical-align: middle;\n",
       "    }\n",
       "\n",
       "    .dataframe tbody tr th {\n",
       "        vertical-align: top;\n",
       "    }\n",
       "\n",
       "    .dataframe thead th {\n",
       "        text-align: right;\n",
       "    }\n",
       "</style>\n",
       "<table border=\"1\" class=\"dataframe\">\n",
       "  <thead>\n",
       "    <tr style=\"text-align: right;\">\n",
       "      <th></th>\n",
       "      <th>URLs</th>\n",
       "      <th>Headline</th>\n",
       "      <th>Body</th>\n",
       "      <th>Label</th>\n",
       "    </tr>\n",
       "  </thead>\n",
       "  <tbody>\n",
       "    <tr>\n",
       "      <th>0</th>\n",
       "      <td>http://www.bbc.com/news/world-us-canada-414191...</td>\n",
       "      <td>Four ways Bob Corker skewered Donald Trump</td>\n",
       "      <td>Image copyright Getty Images\\nOn Sunday mornin...</td>\n",
       "      <td>1</td>\n",
       "    </tr>\n",
       "    <tr>\n",
       "      <th>1</th>\n",
       "      <td>https://www.reuters.com/article/us-filmfestiva...</td>\n",
       "      <td>Linklater's war veteran comedy speaks to moder...</td>\n",
       "      <td>LONDON (Reuters) - “Last Flag Flying”, a comed...</td>\n",
       "      <td>1</td>\n",
       "    </tr>\n",
       "    <tr>\n",
       "      <th>2</th>\n",
       "      <td>https://www.nytimes.com/2017/10/09/us/politics...</td>\n",
       "      <td>Trump’s Fight With Corker Jeopardizes His Legi...</td>\n",
       "      <td>The feud broke into public view last week when...</td>\n",
       "      <td>1</td>\n",
       "    </tr>\n",
       "    <tr>\n",
       "      <th>3</th>\n",
       "      <td>https://www.reuters.com/article/us-mexico-oil-...</td>\n",
       "      <td>Egypt's Cheiron wins tie-up with Pemex for Mex...</td>\n",
       "      <td>MEXICO CITY (Reuters) - Egypt’s Cheiron Holdin...</td>\n",
       "      <td>1</td>\n",
       "    </tr>\n",
       "    <tr>\n",
       "      <th>4</th>\n",
       "      <td>http://www.cnn.com/videos/cnnmoney/2017/10/08/...</td>\n",
       "      <td>Jason Aldean opens 'SNL' with Vegas tribute</td>\n",
       "      <td>Country singer Jason Aldean, who was performin...</td>\n",
       "      <td>1</td>\n",
       "    </tr>\n",
       "    <tr>\n",
       "      <th>...</th>\n",
       "      <td>...</td>\n",
       "      <td>...</td>\n",
       "      <td>...</td>\n",
       "      <td>...</td>\n",
       "    </tr>\n",
       "    <tr>\n",
       "      <th>4004</th>\n",
       "      <td>http://beforeitsnews.com/sports/2017/09/trends...</td>\n",
       "      <td>Trends to Watch</td>\n",
       "      <td>Trends to Watch\\n% of readers think this story...</td>\n",
       "      <td>0</td>\n",
       "    </tr>\n",
       "    <tr>\n",
       "      <th>4005</th>\n",
       "      <td>http://beforeitsnews.com/u-s-politics/2017/10/...</td>\n",
       "      <td>Trump Jr. Is Soon To Give A 30-Minute Speech F...</td>\n",
       "      <td>Trump Jr. Is Soon To Give A 30-Minute Speech F...</td>\n",
       "      <td>0</td>\n",
       "    </tr>\n",
       "    <tr>\n",
       "      <th>4006</th>\n",
       "      <td>https://www.activistpost.com/2017/09/ron-paul-...</td>\n",
       "      <td>Ron Paul on Trump, Anarchism &amp; the AltRight</td>\n",
       "      <td>NaN</td>\n",
       "      <td>0</td>\n",
       "    </tr>\n",
       "    <tr>\n",
       "      <th>4007</th>\n",
       "      <td>https://www.reuters.com/article/us-china-pharm...</td>\n",
       "      <td>China to accept overseas trial data in bid to ...</td>\n",
       "      <td>SHANGHAI (Reuters) - China said it plans to ac...</td>\n",
       "      <td>1</td>\n",
       "    </tr>\n",
       "    <tr>\n",
       "      <th>4008</th>\n",
       "      <td>http://beforeitsnews.com/u-s-politics/2017/10/...</td>\n",
       "      <td>Vice President Mike Pence Leaves NFL Game Beca...</td>\n",
       "      <td>Vice President Mike Pence Leaves NFL Game Beca...</td>\n",
       "      <td>0</td>\n",
       "    </tr>\n",
       "  </tbody>\n",
       "</table>\n",
       "<p>4009 rows × 4 columns</p>\n",
       "</div>"
      ],
      "text/plain": [
       "                                                   URLs  \\\n",
       "0     http://www.bbc.com/news/world-us-canada-414191...   \n",
       "1     https://www.reuters.com/article/us-filmfestiva...   \n",
       "2     https://www.nytimes.com/2017/10/09/us/politics...   \n",
       "3     https://www.reuters.com/article/us-mexico-oil-...   \n",
       "4     http://www.cnn.com/videos/cnnmoney/2017/10/08/...   \n",
       "...                                                 ...   \n",
       "4004  http://beforeitsnews.com/sports/2017/09/trends...   \n",
       "4005  http://beforeitsnews.com/u-s-politics/2017/10/...   \n",
       "4006  https://www.activistpost.com/2017/09/ron-paul-...   \n",
       "4007  https://www.reuters.com/article/us-china-pharm...   \n",
       "4008  http://beforeitsnews.com/u-s-politics/2017/10/...   \n",
       "\n",
       "                                               Headline  \\\n",
       "0            Four ways Bob Corker skewered Donald Trump   \n",
       "1     Linklater's war veteran comedy speaks to moder...   \n",
       "2     Trump’s Fight With Corker Jeopardizes His Legi...   \n",
       "3     Egypt's Cheiron wins tie-up with Pemex for Mex...   \n",
       "4           Jason Aldean opens 'SNL' with Vegas tribute   \n",
       "...                                                 ...   \n",
       "4004                                    Trends to Watch   \n",
       "4005  Trump Jr. Is Soon To Give A 30-Minute Speech F...   \n",
       "4006        Ron Paul on Trump, Anarchism & the AltRight   \n",
       "4007  China to accept overseas trial data in bid to ...   \n",
       "4008  Vice President Mike Pence Leaves NFL Game Beca...   \n",
       "\n",
       "                                                   Body  Label  \n",
       "0     Image copyright Getty Images\\nOn Sunday mornin...      1  \n",
       "1     LONDON (Reuters) - “Last Flag Flying”, a comed...      1  \n",
       "2     The feud broke into public view last week when...      1  \n",
       "3     MEXICO CITY (Reuters) - Egypt’s Cheiron Holdin...      1  \n",
       "4     Country singer Jason Aldean, who was performin...      1  \n",
       "...                                                 ...    ...  \n",
       "4004  Trends to Watch\\n% of readers think this story...      0  \n",
       "4005  Trump Jr. Is Soon To Give A 30-Minute Speech F...      0  \n",
       "4006                                                NaN      0  \n",
       "4007  SHANGHAI (Reuters) - China said it plans to ac...      1  \n",
       "4008  Vice President Mike Pence Leaves NFL Game Beca...      0  \n",
       "\n",
       "[4009 rows x 4 columns]"
      ]
     },
     "execution_count": 4,
     "metadata": {},
     "output_type": "execute_result"
    }
   ],
   "source": [
    "news"
   ]
  },
  {
   "cell_type": "code",
   "execution_count": 5,
   "id": "77729268",
   "metadata": {},
   "outputs": [],
   "source": [
    "# remove unnecessary attributes\n",
    "news = news.drop(labels=['URLs', 'Headline'], axis=1)\n",
    "# also rename attribues names\n",
    "news.columns = ['text', 'label']"
   ]
  },
  {
   "cell_type": "code",
   "execution_count": 6,
   "id": "d89f5798",
   "metadata": {},
   "outputs": [
    {
     "data": {
      "text/html": [
       "<div>\n",
       "<style scoped>\n",
       "    .dataframe tbody tr th:only-of-type {\n",
       "        vertical-align: middle;\n",
       "    }\n",
       "\n",
       "    .dataframe tbody tr th {\n",
       "        vertical-align: top;\n",
       "    }\n",
       "\n",
       "    .dataframe thead th {\n",
       "        text-align: right;\n",
       "    }\n",
       "</style>\n",
       "<table border=\"1\" class=\"dataframe\">\n",
       "  <thead>\n",
       "    <tr style=\"text-align: right;\">\n",
       "      <th></th>\n",
       "      <th>text</th>\n",
       "      <th>label</th>\n",
       "    </tr>\n",
       "  </thead>\n",
       "  <tbody>\n",
       "    <tr>\n",
       "      <th>0</th>\n",
       "      <td>Image copyright Getty Images\\nOn Sunday mornin...</td>\n",
       "      <td>1</td>\n",
       "    </tr>\n",
       "    <tr>\n",
       "      <th>1</th>\n",
       "      <td>LONDON (Reuters) - “Last Flag Flying”, a comed...</td>\n",
       "      <td>1</td>\n",
       "    </tr>\n",
       "    <tr>\n",
       "      <th>2</th>\n",
       "      <td>The feud broke into public view last week when...</td>\n",
       "      <td>1</td>\n",
       "    </tr>\n",
       "    <tr>\n",
       "      <th>3</th>\n",
       "      <td>MEXICO CITY (Reuters) - Egypt’s Cheiron Holdin...</td>\n",
       "      <td>1</td>\n",
       "    </tr>\n",
       "    <tr>\n",
       "      <th>4</th>\n",
       "      <td>Country singer Jason Aldean, who was performin...</td>\n",
       "      <td>1</td>\n",
       "    </tr>\n",
       "    <tr>\n",
       "      <th>...</th>\n",
       "      <td>...</td>\n",
       "      <td>...</td>\n",
       "    </tr>\n",
       "    <tr>\n",
       "      <th>4004</th>\n",
       "      <td>Trends to Watch\\n% of readers think this story...</td>\n",
       "      <td>0</td>\n",
       "    </tr>\n",
       "    <tr>\n",
       "      <th>4005</th>\n",
       "      <td>Trump Jr. Is Soon To Give A 30-Minute Speech F...</td>\n",
       "      <td>0</td>\n",
       "    </tr>\n",
       "    <tr>\n",
       "      <th>4006</th>\n",
       "      <td>NaN</td>\n",
       "      <td>0</td>\n",
       "    </tr>\n",
       "    <tr>\n",
       "      <th>4007</th>\n",
       "      <td>SHANGHAI (Reuters) - China said it plans to ac...</td>\n",
       "      <td>1</td>\n",
       "    </tr>\n",
       "    <tr>\n",
       "      <th>4008</th>\n",
       "      <td>Vice President Mike Pence Leaves NFL Game Beca...</td>\n",
       "      <td>0</td>\n",
       "    </tr>\n",
       "  </tbody>\n",
       "</table>\n",
       "<p>4009 rows × 2 columns</p>\n",
       "</div>"
      ],
      "text/plain": [
       "                                                   text  label\n",
       "0     Image copyright Getty Images\\nOn Sunday mornin...      1\n",
       "1     LONDON (Reuters) - “Last Flag Flying”, a comed...      1\n",
       "2     The feud broke into public view last week when...      1\n",
       "3     MEXICO CITY (Reuters) - Egypt’s Cheiron Holdin...      1\n",
       "4     Country singer Jason Aldean, who was performin...      1\n",
       "...                                                 ...    ...\n",
       "4004  Trends to Watch\\n% of readers think this story...      0\n",
       "4005  Trump Jr. Is Soon To Give A 30-Minute Speech F...      0\n",
       "4006                                                NaN      0\n",
       "4007  SHANGHAI (Reuters) - China said it plans to ac...      1\n",
       "4008  Vice President Mike Pence Leaves NFL Game Beca...      0\n",
       "\n",
       "[4009 rows x 2 columns]"
      ]
     },
     "execution_count": 6,
     "metadata": {},
     "output_type": "execute_result"
    }
   ],
   "source": [
    "news"
   ]
  },
  {
   "cell_type": "code",
   "execution_count": 7,
   "id": "8493c4cc",
   "metadata": {},
   "outputs": [],
   "source": [
    "# rename 0 as Fake 1 as Real from label attribute\n",
    "news['label'] = news['label'].map({1: 'Real', 0: 'Fake'})"
   ]
  },
  {
   "cell_type": "code",
   "execution_count": 8,
   "id": "cd902a72",
   "metadata": {},
   "outputs": [
    {
     "data": {
      "text/html": [
       "<div>\n",
       "<style scoped>\n",
       "    .dataframe tbody tr th:only-of-type {\n",
       "        vertical-align: middle;\n",
       "    }\n",
       "\n",
       "    .dataframe tbody tr th {\n",
       "        vertical-align: top;\n",
       "    }\n",
       "\n",
       "    .dataframe thead th {\n",
       "        text-align: right;\n",
       "    }\n",
       "</style>\n",
       "<table border=\"1\" class=\"dataframe\">\n",
       "  <thead>\n",
       "    <tr style=\"text-align: right;\">\n",
       "      <th></th>\n",
       "      <th>text</th>\n",
       "      <th>label</th>\n",
       "    </tr>\n",
       "  </thead>\n",
       "  <tbody>\n",
       "    <tr>\n",
       "      <th>0</th>\n",
       "      <td>Image copyright Getty Images\\nOn Sunday mornin...</td>\n",
       "      <td>Real</td>\n",
       "    </tr>\n",
       "    <tr>\n",
       "      <th>1</th>\n",
       "      <td>LONDON (Reuters) - “Last Flag Flying”, a comed...</td>\n",
       "      <td>Real</td>\n",
       "    </tr>\n",
       "    <tr>\n",
       "      <th>2</th>\n",
       "      <td>The feud broke into public view last week when...</td>\n",
       "      <td>Real</td>\n",
       "    </tr>\n",
       "    <tr>\n",
       "      <th>3</th>\n",
       "      <td>MEXICO CITY (Reuters) - Egypt’s Cheiron Holdin...</td>\n",
       "      <td>Real</td>\n",
       "    </tr>\n",
       "    <tr>\n",
       "      <th>4</th>\n",
       "      <td>Country singer Jason Aldean, who was performin...</td>\n",
       "      <td>Real</td>\n",
       "    </tr>\n",
       "    <tr>\n",
       "      <th>...</th>\n",
       "      <td>...</td>\n",
       "      <td>...</td>\n",
       "    </tr>\n",
       "    <tr>\n",
       "      <th>4004</th>\n",
       "      <td>Trends to Watch\\n% of readers think this story...</td>\n",
       "      <td>Fake</td>\n",
       "    </tr>\n",
       "    <tr>\n",
       "      <th>4005</th>\n",
       "      <td>Trump Jr. Is Soon To Give A 30-Minute Speech F...</td>\n",
       "      <td>Fake</td>\n",
       "    </tr>\n",
       "    <tr>\n",
       "      <th>4006</th>\n",
       "      <td>NaN</td>\n",
       "      <td>Fake</td>\n",
       "    </tr>\n",
       "    <tr>\n",
       "      <th>4007</th>\n",
       "      <td>SHANGHAI (Reuters) - China said it plans to ac...</td>\n",
       "      <td>Real</td>\n",
       "    </tr>\n",
       "    <tr>\n",
       "      <th>4008</th>\n",
       "      <td>Vice President Mike Pence Leaves NFL Game Beca...</td>\n",
       "      <td>Fake</td>\n",
       "    </tr>\n",
       "  </tbody>\n",
       "</table>\n",
       "<p>4009 rows × 2 columns</p>\n",
       "</div>"
      ],
      "text/plain": [
       "                                                   text label\n",
       "0     Image copyright Getty Images\\nOn Sunday mornin...  Real\n",
       "1     LONDON (Reuters) - “Last Flag Flying”, a comed...  Real\n",
       "2     The feud broke into public view last week when...  Real\n",
       "3     MEXICO CITY (Reuters) - Egypt’s Cheiron Holdin...  Real\n",
       "4     Country singer Jason Aldean, who was performin...  Real\n",
       "...                                                 ...   ...\n",
       "4004  Trends to Watch\\n% of readers think this story...  Fake\n",
       "4005  Trump Jr. Is Soon To Give A 30-Minute Speech F...  Fake\n",
       "4006                                                NaN  Fake\n",
       "4007  SHANGHAI (Reuters) - China said it plans to ac...  Real\n",
       "4008  Vice President Mike Pence Leaves NFL Game Beca...  Fake\n",
       "\n",
       "[4009 rows x 2 columns]"
      ]
     },
     "execution_count": 8,
     "metadata": {},
     "output_type": "execute_result"
    }
   ],
   "source": [
    "news"
   ]
  },
  {
   "cell_type": "code",
   "execution_count": 9,
   "id": "84b6efde",
   "metadata": {},
   "outputs": [
    {
     "data": {
      "text/plain": [
       "text     21\n",
       "label     0\n",
       "dtype: int64"
      ]
     },
     "execution_count": 9,
     "metadata": {},
     "output_type": "execute_result"
    }
   ],
   "source": [
    "# count null values if the dataset has it\n",
    "news.isna().sum()"
   ]
  },
  {
   "cell_type": "markdown",
   "id": "b6c7fb7b",
   "metadata": {},
   "source": [
    "#### Above shows that there 21 null values, which need to be fixed."
   ]
  },
  {
   "cell_type": "code",
   "execution_count": 10,
   "id": "df160413",
   "metadata": {},
   "outputs": [],
   "source": [
    "# remove null values from the dataset\n",
    "news = news.dropna()"
   ]
  },
  {
   "cell_type": "code",
   "execution_count": 11,
   "id": "f59423d9",
   "metadata": {},
   "outputs": [
    {
     "data": {
      "text/plain": [
       "(3988, 2)"
      ]
     },
     "execution_count": 11,
     "metadata": {},
     "output_type": "execute_result"
    }
   ],
   "source": [
    "news.shape"
   ]
  },
  {
   "cell_type": "markdown",
   "id": "4f06b7b9",
   "metadata": {},
   "source": [
    "#### After cleaning the dataset, the number of rows is 3988 and attribute is 2. "
   ]
  },
  {
   "cell_type": "code",
   "execution_count": 12,
   "id": "87017873",
   "metadata": {},
   "outputs": [
    {
     "data": {
      "text/html": [
       "<div>\n",
       "<style scoped>\n",
       "    .dataframe tbody tr th:only-of-type {\n",
       "        vertical-align: middle;\n",
       "    }\n",
       "\n",
       "    .dataframe tbody tr th {\n",
       "        vertical-align: top;\n",
       "    }\n",
       "\n",
       "    .dataframe thead th {\n",
       "        text-align: right;\n",
       "    }\n",
       "</style>\n",
       "<table border=\"1\" class=\"dataframe\">\n",
       "  <thead>\n",
       "    <tr style=\"text-align: right;\">\n",
       "      <th></th>\n",
       "      <th>text</th>\n",
       "      <th>label</th>\n",
       "    </tr>\n",
       "  </thead>\n",
       "  <tbody>\n",
       "    <tr>\n",
       "      <th>0</th>\n",
       "      <td>False</td>\n",
       "      <td>False</td>\n",
       "    </tr>\n",
       "    <tr>\n",
       "      <th>1</th>\n",
       "      <td>False</td>\n",
       "      <td>False</td>\n",
       "    </tr>\n",
       "    <tr>\n",
       "      <th>2</th>\n",
       "      <td>False</td>\n",
       "      <td>False</td>\n",
       "    </tr>\n",
       "    <tr>\n",
       "      <th>3</th>\n",
       "      <td>False</td>\n",
       "      <td>False</td>\n",
       "    </tr>\n",
       "    <tr>\n",
       "      <th>4</th>\n",
       "      <td>False</td>\n",
       "      <td>False</td>\n",
       "    </tr>\n",
       "    <tr>\n",
       "      <th>...</th>\n",
       "      <td>...</td>\n",
       "      <td>...</td>\n",
       "    </tr>\n",
       "    <tr>\n",
       "      <th>4003</th>\n",
       "      <td>False</td>\n",
       "      <td>False</td>\n",
       "    </tr>\n",
       "    <tr>\n",
       "      <th>4004</th>\n",
       "      <td>False</td>\n",
       "      <td>False</td>\n",
       "    </tr>\n",
       "    <tr>\n",
       "      <th>4005</th>\n",
       "      <td>False</td>\n",
       "      <td>False</td>\n",
       "    </tr>\n",
       "    <tr>\n",
       "      <th>4007</th>\n",
       "      <td>False</td>\n",
       "      <td>False</td>\n",
       "    </tr>\n",
       "    <tr>\n",
       "      <th>4008</th>\n",
       "      <td>False</td>\n",
       "      <td>False</td>\n",
       "    </tr>\n",
       "  </tbody>\n",
       "</table>\n",
       "<p>3988 rows × 2 columns</p>\n",
       "</div>"
      ],
      "text/plain": [
       "       text  label\n",
       "0     False  False\n",
       "1     False  False\n",
       "2     False  False\n",
       "3     False  False\n",
       "4     False  False\n",
       "...     ...    ...\n",
       "4003  False  False\n",
       "4004  False  False\n",
       "4005  False  False\n",
       "4007  False  False\n",
       "4008  False  False\n",
       "\n",
       "[3988 rows x 2 columns]"
      ]
     },
     "execution_count": 12,
     "metadata": {},
     "output_type": "execute_result"
    }
   ],
   "source": [
    "news.isnull()"
   ]
  },
  {
   "cell_type": "markdown",
   "id": "bfad6b98",
   "metadata": {},
   "source": [
    "#### Confirming whether the dataset contains any null values or not. "
   ]
  },
  {
   "cell_type": "code",
   "execution_count": 13,
   "id": "42484d9e",
   "metadata": {},
   "outputs": [],
   "source": [
    "# save cleaned dataset\n",
    "news.to_csv('cleaned_dataset.csv', index=False)"
   ]
  },
  {
   "cell_type": "markdown",
   "id": "6b872efc",
   "metadata": {},
   "source": [
    "## Data Visualization "
   ]
  },
  {
   "cell_type": "code",
   "execution_count": 14,
   "id": "44a9e140",
   "metadata": {},
   "outputs": [
    {
     "data": {
      "text/html": [
       "<div>\n",
       "<style scoped>\n",
       "    .dataframe tbody tr th:only-of-type {\n",
       "        vertical-align: middle;\n",
       "    }\n",
       "\n",
       "    .dataframe tbody tr th {\n",
       "        vertical-align: top;\n",
       "    }\n",
       "\n",
       "    .dataframe thead th {\n",
       "        text-align: right;\n",
       "    }\n",
       "</style>\n",
       "<table border=\"1\" class=\"dataframe\">\n",
       "  <thead>\n",
       "    <tr style=\"text-align: right;\">\n",
       "      <th></th>\n",
       "      <th>label</th>\n",
       "      <th>Fake</th>\n",
       "      <th>Real</th>\n",
       "    </tr>\n",
       "  </thead>\n",
       "  <tbody>\n",
       "    <tr>\n",
       "      <th rowspan=\"4\" valign=\"top\">text</th>\n",
       "      <th>count</th>\n",
       "      <td>2120</td>\n",
       "      <td>1868</td>\n",
       "    </tr>\n",
       "    <tr>\n",
       "      <th>unique</th>\n",
       "      <td>1193</td>\n",
       "      <td>1670</td>\n",
       "    </tr>\n",
       "    <tr>\n",
       "      <th>top</th>\n",
       "      <td>A Potato Battery Can Light up a Room for Over ...</td>\n",
       "      <td>Chat with us in Facebook Messenger. Find out w...</td>\n",
       "    </tr>\n",
       "    <tr>\n",
       "      <th>freq</th>\n",
       "      <td>143</td>\n",
       "      <td>61</td>\n",
       "    </tr>\n",
       "  </tbody>\n",
       "</table>\n",
       "</div>"
      ],
      "text/plain": [
       "label                                                     Fake  \\\n",
       "text count                                                2120   \n",
       "     unique                                               1193   \n",
       "     top     A Potato Battery Can Light up a Room for Over ...   \n",
       "     freq                                                  143   \n",
       "\n",
       "label                                                     Real  \n",
       "text count                                                1868  \n",
       "     unique                                               1670  \n",
       "     top     Chat with us in Facebook Messenger. Find out w...  \n",
       "     freq                                                   61  "
      ]
     },
     "execution_count": 14,
     "metadata": {},
     "output_type": "execute_result"
    }
   ],
   "source": [
    "news.groupby('label').describe().T\n"
   ]
  },
  {
   "cell_type": "markdown",
   "id": "7b193df7",
   "metadata": {},
   "source": [
    "#### Above describes, that 2120 rows are Fake and 1868 are Real news. However, only 1193 and 1670 are unique data in Fake and Real respectiviely. We can see 61 are frequently repeated news as Real and only 143 fake news are repeated. "
   ]
  },
  {
   "cell_type": "code",
   "execution_count": 15,
   "id": "ab73a68b",
   "metadata": {},
   "outputs": [
    {
     "data": {
      "image/png": "[encoded data removed]",
      "text/plain": [
       "<Figure size 600x600 with 1 Axes>"
      ]
     },
     "metadata": {},
     "output_type": "display_data"
    }
   ],
   "source": [
    "\n",
    "import matplotlib.pyplot as plt\n",
    "\n",
    "news['label'].value_counts().plot(kind='pie', explode=[0,0.1], figsize=(6,6), autopct='%1.1f%%', shadow=True)\n",
    "plt.title('Dataset distribution as Fake and Real news')\n",
    "plt.show()"
   ]
  },
  {
   "cell_type": "code",
   "execution_count": 16,
   "id": "352066bc",
   "metadata": {},
   "outputs": [],
   "source": [
    "labelCount = news['label'].value_counts()"
   ]
  },
  {
   "cell_type": "code",
   "execution_count": 17,
   "id": "ea4dad5a",
   "metadata": {},
   "outputs": [
    {
     "data": {
      "image/png": "[encoded data removed]",
      "text/plain": [
       "<Figure size 640x480 with 1 Axes>"
      ]
     },
     "metadata": {},
     "output_type": "display_data"
    }
   ],
   "source": [
    "# Create a bar plot to visualize the label distribution\n",
    "plt.bar(labelCount.index, labelCount.values, color=['red', 'green'])\n",
    "plt.xlabel('Label')\n",
    "plt.ylabel('Count')\n",
    "plt.title('Fake and Real news distribution')\n",
    "plt.show()"
   ]
  },
  {
   "cell_type": "markdown",
   "id": "23a08b2a",
   "metadata": {},
   "source": [
    "#### Above Pie-chart and Bar-graph exhibit that the dataset contains more fake news than real news. However, the distribution of both Fake and Real is eligible and acceptable for modeling and training. "
   ]
  },
  {
   "cell_type": "markdown",
   "id": "6c1dd083",
   "metadata": {},
   "source": [
    "### Text pre-processing "
   ]
  },
  {
   "cell_type": "code",
   "execution_count": 18,
   "id": "ec1e81cb",
   "metadata": {},
   "outputs": [
    {
     "data": {
      "text/plain": [
       "\"The feud broke into public view last week when Mr. Corker said that Mr. Trump’s advisers were guarding against “chaos.” The president retaliated on Sunday by saying the retiring senator “didn’t have the guts to run” for another term. Mr. Corker responded on Twitter an hour later, saying that the White House had become an “adult day care center.”\\nHe then unloaded in an interview with The New York Times, saying in public what many of his Republican colleagues say in private — that the president is dangerously erratic, treats his high office like “a reality show,” has to be contained by his staff and is reckless enough to put the country “on the path to World War III.”\\nMr. Corker, a moderate by temperament as well as ideology, had measured his occasional criticisms of Mr. Trump for months in hopes of influencing his foreign policy, but evidently feels liberated now that he has decided not to run for a third term.\\nFew other incumbent Republicans rushed to the microphones to echo his comments on Monday, but several made little attempt to hide their irritation at Mr. Trump for attacking Mr. Corker.\\n“He’s an important part of our team, and he’s a particularly important part of the budget debate, which will be on the floor next week,” Mr. McConnell said pointedly at an event in Hazard, Ky., with Scott Pruitt, the head of the Environmental Protection Agency.\\n“Bob Corker has been a leader in Congress on issues as diverse as deficit reduction and combating terrorism, and he is a man of unwavering integrity,” Senator Rob Portman, Republican of Ohio, said in a statement. “If we’re going to accomplish our economic and national security agenda we’re going to have to work together, period.”\\nMr. McConnell’s associates were blunter in expressing the leadership’s frustration with the president for disrupting party unity as Republicans push for tax cuts. “This was going to be hard no matter what,” said Billy Piper, Mr. McConnell’s former chief of staff. “And he took the guy who was one of the linchpins of this and incinerated him for no reason.”\\nAdvertisement Continue reading the main story\\nThe White House spent Monday telling allies that Mr. Corker was responsible for the fight, not Mr. Trump, and that the senator was an attention-seeking obstructionist.\\nNewsletter Sign Up Continue reading the main story Please verify you're not a robot by clicking the box. Invalid email address. Please re-enter. You must select a newsletter to subscribe to. Sign Up You agree to receive occasional updates and special offers for The New York Times's products and services. Thank you for subscribing. An error has occurred. Please try again later. View all New York Times newsletters.\\n“I find tweets like this to be incredibly irresponsible,” Kellyanne Conway, the president’s counselor, told Fox News, referring to Mr. Corker’s posted response to Mr. Trump on Sunday. “It adds to the insulting that the mainstream media and the president’s detractors — almost a year after this election, they still can’t accept the election results. It adds to their ability and their cover to speak about the president of the United States in ways that no president should be talked about.”\\nVice President Mike Pence was left to defend Mr. Trump against what he called “empty rhetoric and baseless attacks,” saying the president had accomplished a lot internationally. “Today our nation once again stands without apology as leader of the free world,” Mr. Pence said in a statement. “That’s what American leadership on the world stage looks like and no amount of criticism at home can diminish those results.”\\nMr. Trump has grown frustrated by Senate Republicans — including lashing out at Mr. McConnell for not getting the job done — as legislation to repeal President Barack Obama’s health care program has been repeatedly blocked. He has engaged in open conflicts with Senators John McCain and Jeff Flake of Arizona, Lindsey Graham of South Carolina and Lisa Murkowski of Alaska, among others, although just Monday he went golfing with Mr. Graham.\\nSome Republican senators share Mr. Trump’s frustration with gridlock in the Senate. “We want things to move quickly,” said Senator Thom Tillis of North Carolina, who was elected in 2014. “People are frustrated with the lack of results.”\\nSenator David Perdue of Georgia, another member of the 2014 class, has been even more outspoken in venting about fellow Republicans derailing health care legislation. “People are very upset that Republican senators are not backing the agenda of this president,” he said.\\nMr. Trump’s former chief strategist, Stephen K. Bannon, acting in what he says is the president’s interest, is organizing a rebellion against the Republican establishment and recruiting candidates to challenge incumbent senators in primaries next year. “This is what they think about President Trump behind closed doors,” Mr. Bannon said on Fox News on Monday night, referring to Mr. Corker’s comments and calling on the senator to resign. Mr. Pence’s chief of staff has talked about a “purge” of Republicans who are not loyal to Mr. Trump.\\nThat may keep more Republicans on board even if they agree with Mr. Corker.\\n“Do most senators have their doubts about the president?” asked John Feehery, a longtime Republican congressional aide. “That’s probably true, but also largely irrelevant. He’s the president, and they have to find ways to get stuff done with him. Otherwise, they face the wrath of the voters — something Bob Corker no longer worries about.”\\nIn effect, Mr. McCain, Ms. Murkowski and Senator Susan Collins of Maine already were free agents on many issues. Regular defections by Mr. Corker would make the president’s ability to pass legislation that much harder, absent bipartisan deals with Democrats.\\nAdvertisement Continue reading the main story\\nAs chairman of the Senate Foreign Relations Committee, Mr. Corker could block the confirmation of a new secretary of state should Mr. Trump push out his embattled chief diplomat, Rex W. Tillerson. He also, presumably, would play a key role in any decision on whether to tear up the Iran nuclear deal.\\n“Senate Republicans’ frustrations with Trump are starting to boil over,” said Alex Conant, a former Senate Republican aide. “I’m sure the feelings are mutual inside the White House. The relationship was always tenuous at best, but Corker’s comments are a new low point.”\\n“If they were getting a lot done, it would be easier for everyone to get along,” Mr. Conant said. “Of course, the fact that they’re not getting along also makes it harder to get anything done.”\""
      ]
     },
     "execution_count": 18,
     "metadata": {},
     "output_type": "execute_result"
    }
   ],
   "source": [
    "news['text'][2]"
   ]
  },
  {
   "cell_type": "markdown",
   "id": "b0ffcaa8",
   "metadata": {},
   "source": [
    "#### In above text, we can see the news text contains many stopswords and punctuations like the a, -, in, etc. Also, it contains the data in lower and upper cases.\n",
    "\n",
    "#### Now, we are doing Stemming i.e reducing a word into its root word such as 'getting' into 'get', 'harder' into 'hard', etc."
   ]
  },
  {
   "cell_type": "code",
   "execution_count": 19,
   "id": "c8b3af14",
   "metadata": {},
   "outputs": [],
   "source": [
    "ps = PorterStemmer()"
   ]
  },
  {
   "cell_type": "code",
   "execution_count": 20,
   "id": "f8e24f3d",
   "metadata": {},
   "outputs": [],
   "source": [
    "# define a function for stemming\n",
    "def stemming(text):\n",
    "    \n",
    "#     store only lower case a-z and upper case A-Z, ignoring other words/letters, finally convert into lowercase\n",
    "    stemmedContent = re.sub('[^a-zA-Z]', ' ', text).lower()\n",
    "#     split the word\n",
    "    stemmedContent = stemmedContent.split()\n",
    "    \n",
    "#     check whether each stemmed data is stopword or not, if yes remove it and if no store it\n",
    "    stemmedContent = [ps.stem(word) for word in stemmedContent if not word in stopwords.words('english')]\n",
    "#     join stemmed data by a space\n",
    "    stemmedContent = ' '.join(stemmedContent)\n",
    "    return stemmedContent\n",
    "    "
   ]
  },
  {
   "cell_type": "code",
   "execution_count": 21,
   "id": "76288948",
   "metadata": {},
   "outputs": [
    {
     "name": "stderr",
     "output_type": "stream",
     "text": [
      "C:\\Users\\uSer\\AppData\\Local\\Temp\\ipykernel_4948\\669869562.py:2: SettingWithCopyWarning: \n",
      "A value is trying to be set on a copy of a slice from a DataFrame.\n",
      "Try using .loc[row_indexer,col_indexer] = value instead\n",
      "\n",
      "See the caveats in the documentation: https://pandas.pydata.org/pandas-docs/stable/user_guide/indexing.html#returning-a-view-versus-a-copy\n",
      "  news['text'] = news['text'].apply(stemming)\n"
     ]
    }
   ],
   "source": [
    "# replace old text attribute's data by its stemming new data that stemmed by above function\n",
    "news['text'] = news['text'].apply(stemming)"
   ]
  },
  {
   "cell_type": "code",
   "execution_count": 22,
   "id": "ac87c12d",
   "metadata": {},
   "outputs": [
    {
     "data": {
      "text/plain": [
       "'feud broke public view last week mr corker said mr trump advis guard chao presid retali sunday say retir senat gut run anoth term mr corker respond twitter hour later say white hous becom adult day care center unload interview new york time say public mani republican colleagu say privat presid danger errat treat high offic like realiti show contain staff reckless enough put countri path world war iii mr corker moder tempera well ideolog measur occasion critic mr trump month hope influenc foreign polici evid feel liber decid run third term incumb republican rush microphon echo comment monday sever made littl attempt hide irrit mr trump attack mr corker import part team particularli import part budget debat floor next week mr mcconnel said pointedli event hazard ky scott pruitt head environment protect agenc bob corker leader congress issu divers deficit reduct combat terror man unwav integr senat rob portman republican ohio said statement go accomplish econom nation secur agenda go work togeth period mr mcconnel associ blunter express leadership frustrat presid disrupt parti uniti republican push tax cut go hard matter said billi piper mr mcconnel former chief staff took guy one linchpin inciner reason advertis continu read main stori white hous spent monday tell alli mr corker respons fight mr trump senat attent seek obstructionist newslett sign continu read main stori pleas verifi robot click box invalid email address pleas enter must select newslett subscrib sign agre receiv occasion updat special offer new york time product servic thank subscrib error occur pleas tri later view new york time newslett find tweet like incred irrespons kellyann conway presid counselor told fox news refer mr corker post respons mr trump sunday add insult mainstream media presid detractor almost year elect still accept elect result add abil cover speak presid unit state way presid talk vice presid mike penc left defend mr trump call empti rhetor baseless attack say presid accomplish lot intern today nation stand without apolog leader free world mr penc said statement american leadership world stage look like amount critic home diminish result mr trump grown frustrat senat republican includ lash mr mcconnel get job done legisl repeal presid barack obama health care program repeatedli block engag open conflict senat john mccain jeff flake arizona lindsey graham south carolina lisa murkowski alaska among other although monday went golf mr graham republican senat share mr trump frustrat gridlock senat want thing move quickli said senat thom tilli north carolina elect peopl frustrat lack result senat david perdu georgia anoth member class even outspoken vent fellow republican derail health care legisl peopl upset republican senat back agenda presid said mr trump former chief strategist stephen k bannon act say presid interest organ rebellion republican establish recruit candid challeng incumb senat primari next year think presid trump behind close door mr bannon said fox news monday night refer mr corker comment call senat resign mr penc chief staff talk purg republican loyal mr trump may keep republican board even agre mr corker senat doubt presid ask john feeheri longtim republican congression aid probabl true also larg irrelev presid find way get stuff done otherwis face wrath voter someth bob corker longer worri effect mr mccain ms murkowski senat susan collin main alreadi free agent mani issu regular defect mr corker would make presid abil pass legisl much harder absent bipartisan deal democrat advertis continu read main stori chairman senat foreign relat committe mr corker could block confirm new secretari state mr trump push embattl chief diplomat rex w tillerson also presum would play key role decis whether tear iran nuclear deal senat republican frustrat trump start boil said alex conant former senat republican aid sure feel mutual insid white hous relationship alway tenuou best corker comment new low point get lot done would easier everyon get along mr conant said cours fact get along also make harder get anyth done'"
      ]
     },
     "execution_count": 22,
     "metadata": {},
     "output_type": "execute_result"
    }
   ],
   "source": [
    "# reviewing the above row data\n",
    "news['text'][2]"
   ]
  },
  {
   "cell_type": "markdown",
   "id": "0816264e",
   "metadata": {},
   "source": [
    "#### Here we can see the punctuation and stopwords are eliminated from the text."
   ]
  },
  {
   "cell_type": "code",
   "execution_count": 23,
   "id": "4b39df9c",
   "metadata": {},
   "outputs": [],
   "source": [
    "# extract the values of text and label and store\n",
    "X = news['text'].values\n",
    "y = news['label'].values"
   ]
  },
  {
   "cell_type": "code",
   "execution_count": 24,
   "id": "fec7bd20",
   "metadata": {},
   "outputs": [],
   "source": [
    "# vectorization  ==> converting textual data into numerical data\n",
    "vector = TfidfVectorizer()\n",
    "vector.fit(X)\n",
    "X = vector.transform(X)"
   ]
  },
  {
   "cell_type": "code",
   "execution_count": 25,
   "id": "52ef27f0",
   "metadata": {},
   "outputs": [
    {
     "name": "stdout",
     "output_type": "stream",
     "text": [
      "  (0, 30099)\t0.015859046393638016\n",
      "  (0, 30020)\t0.010344739578419837\n",
      "  (0, 29841)\t0.041455137962547225\n",
      "  (0, 29782)\t0.023431708798453892\n",
      "  (0, 29755)\t0.026453641370642555\n",
      "  (0, 29617)\t0.027803718858821665\n",
      "  (0, 29467)\t0.09282870452162262\n",
      "  (0, 29375)\t0.0219767007257197\n",
      "  (0, 29360)\t0.018077878232623214\n",
      "  (0, 29227)\t0.013776270211082223\n",
      "  (0, 29138)\t0.019187773586587947\n",
      "  (0, 28994)\t0.021952497767689556\n",
      "  (0, 28773)\t0.0251271664045315\n",
      "  (0, 28722)\t0.024800940202448173\n",
      "  (0, 28673)\t0.035384742274624216\n",
      "  (0, 28610)\t0.029873084428922787\n",
      "  (0, 28458)\t0.024350546835228158\n",
      "  (0, 28444)\t0.025097209681350856\n",
      "  (0, 28371)\t0.020004605417965816\n",
      "  (0, 28305)\t0.036793753726931035\n",
      "  (0, 28259)\t0.03712231138069502\n",
      "  (0, 28250)\t0.038664344829553964\n",
      "  (0, 28222)\t0.037841773413036336\n",
      "  (0, 28174)\t0.023494531216548497\n",
      "  (0, 28151)\t0.014716973311178045\n",
      "  :\t:\n",
      "  (3987, 6318)\t0.04441226291782957\n",
      "  (3987, 6205)\t0.02115317021363051\n",
      "  (3987, 5836)\t0.03887098498107889\n",
      "  (3987, 5580)\t0.0215785825569546\n",
      "  (3987, 5527)\t0.08374509072460062\n",
      "  (3987, 5524)\t0.048314749878730606\n",
      "  (3987, 5310)\t0.03428873827512261\n",
      "  (3987, 5278)\t0.047010192270477216\n",
      "  (3987, 5270)\t0.23449735032152905\n",
      "  (3987, 4807)\t0.06876456259658026\n",
      "  (3987, 4444)\t0.03671449323967907\n",
      "  (3987, 4416)\t0.021923544855559404\n",
      "  (3987, 4357)\t0.05539579453037968\n",
      "  (3987, 4102)\t0.02541514993296751\n",
      "  (3987, 1614)\t0.08135250658918437\n",
      "  (3987, 1488)\t0.03975354823683075\n",
      "  (3987, 1375)\t0.018043134458649874\n",
      "  (3987, 1100)\t0.10899889478883376\n",
      "  (3987, 1092)\t0.23258890175770283\n",
      "  (3987, 1062)\t0.02333576523687892\n",
      "  (3987, 877)\t0.11286250764602275\n",
      "  (3987, 822)\t0.021520316901938383\n",
      "  (3987, 371)\t0.03596371467674941\n",
      "  (3987, 240)\t0.018732620153124678\n",
      "  (3987, 217)\t0.04457346772177843\n"
     ]
    }
   ],
   "source": [
    "print(X)"
   ]
  },
  {
   "cell_type": "markdown",
   "id": "beba6d32",
   "metadata": {},
   "source": [
    "#### Now, we can see here, the text and label are vectorized successfully. "
   ]
  },
  {
   "cell_type": "markdown",
   "id": "d317145d",
   "metadata": {},
   "source": [
    "## Modeling "
   ]
  },
  {
   "cell_type": "code",
   "execution_count": 26,
   "id": "2548d929",
   "metadata": {},
   "outputs": [],
   "source": [
    "# split training and testing dataset into 8:2 ratio\n",
    "X_train, X_test, y_train, y_test = train_test_split(X, y, test_size = 0.2, stratify = y, random_state = 2)"
   ]
  },
  {
   "cell_type": "code",
   "execution_count": 27,
   "id": "56e80904",
   "metadata": {},
   "outputs": [
    {
     "data": {
      "text/plain": [
       "(3190, 30372)"
      ]
     },
     "execution_count": 27,
     "metadata": {},
     "output_type": "execute_result"
    }
   ],
   "source": [
    "# count the training set\n",
    "X_train.shape"
   ]
  },
  {
   "cell_type": "markdown",
   "id": "3c08386e",
   "metadata": {},
   "source": [
    "### Apply Logistic Regression classifier\n"
   ]
  },
  {
   "cell_type": "code",
   "execution_count": 44,
   "id": "700541c6",
   "metadata": {},
   "outputs": [
    {
     "data": {
      "text/html": [
       "<style>#sk-container-id-3 {color: black;background-color: white;}#sk-container-id-3 pre{padding: 0;}#sk-container-id-3 div.sk-toggleable {background-color: white;}#sk-container-id-3 label.sk-toggleable__label {cursor: pointer;display: block;width: 100%;margin-bottom: 0;padding: 0.3em;box-sizing: border-box;text-align: center;}#sk-container-id-3 label.sk-toggleable__label-arrow:before {content: \"▸\";float: left;margin-right: 0.25em;color: #696969;}#sk-container-id-3 label.sk-toggleable__label-arrow:hover:before {color: black;}#sk-container-id-3 div.sk-estimator:hover label.sk-toggleable__label-arrow:before {color: black;}#sk-container-id-3 div.sk-toggleable__content {max-height: 0;max-width: 0;overflow: hidden;text-align: left;background-color: #f0f8ff;}#sk-container-id-3 div.sk-toggleable__content pre {margin: 0.2em;color: black;border-radius: 0.25em;background-color: #f0f8ff;}#sk-container-id-3 input.sk-toggleable__control:checked~div.sk-toggleable__content {max-height: 200px;max-width: 100%;overflow: auto;}#sk-container-id-3 input.sk-toggleable__control:checked~label.sk-toggleable__label-arrow:before {content: \"▾\";}#sk-container-id-3 div.sk-estimator input.sk-toggleable__control:checked~label.sk-toggleable__label {background-color: #d4ebff;}#sk-container-id-3 div.sk-label input.sk-toggleable__control:checked~label.sk-toggleable__label {background-color: #d4ebff;}#sk-container-id-3 input.sk-hidden--visually {border: 0;clip: rect(1px 1px 1px 1px);clip: rect(1px, 1px, 1px, 1px);height: 1px;margin: -1px;overflow: hidden;padding: 0;position: absolute;width: 1px;}#sk-container-id-3 div.sk-estimator {font-family: monospace;background-color: #f0f8ff;border: 1px dotted black;border-radius: 0.25em;box-sizing: border-box;margin-bottom: 0.5em;}#sk-container-id-3 div.sk-estimator:hover {background-color: #d4ebff;}#sk-container-id-3 div.sk-parallel-item::after {content: \"\";width: 100%;border-bottom: 1px solid gray;flex-grow: 1;}#sk-container-id-3 div.sk-label:hover label.sk-toggleable__label {background-color: #d4ebff;}#sk-container-id-3 div.sk-serial::before {content: \"\";position: absolute;border-left: 1px solid gray;box-sizing: border-box;top: 0;bottom: 0;left: 50%;z-index: 0;}#sk-container-id-3 div.sk-serial {display: flex;flex-direction: column;align-items: center;background-color: white;padding-right: 0.2em;padding-left: 0.2em;position: relative;}#sk-container-id-3 div.sk-item {position: relative;z-index: 1;}#sk-container-id-3 div.sk-parallel {display: flex;align-items: stretch;justify-content: center;background-color: white;position: relative;}#sk-container-id-3 div.sk-item::before, #sk-container-id-3 div.sk-parallel-item::before {content: \"\";position: absolute;border-left: 1px solid gray;box-sizing: border-box;top: 0;bottom: 0;left: 50%;z-index: -1;}#sk-container-id-3 div.sk-parallel-item {display: flex;flex-direction: column;z-index: 1;position: relative;background-color: white;}#sk-container-id-3 div.sk-parallel-item:first-child::after {align-self: flex-end;width: 50%;}#sk-container-id-3 div.sk-parallel-item:last-child::after {align-self: flex-start;width: 50%;}#sk-container-id-3 div.sk-parallel-item:only-child::after {width: 0;}#sk-container-id-3 div.sk-dashed-wrapped {border: 1px dashed gray;margin: 0 0.4em 0.5em 0.4em;box-sizing: border-box;padding-bottom: 0.4em;background-color: white;}#sk-container-id-3 div.sk-label label {font-family: monospace;font-weight: bold;display: inline-block;line-height: 1.2em;}#sk-container-id-3 div.sk-label-container {text-align: center;}#sk-container-id-3 div.sk-container {/* jupyter's `normalize.less` sets `[hidden] { display: none; }` but bootstrap.min.css set `[hidden] { display: none !important; }` so we also need the `!important` here to be able to override the default hidden behavior on the sphinx rendered scikit-learn.org. See: https://github.com/scikit-learn/scikit-learn/issues/21755 */display: inline-block !important;position: relative;}#sk-container-id-3 div.sk-text-repr-fallback {display: none;}</style><div id=\"sk-container-id-3\" class=\"sk-top-container\"><div class=\"sk-text-repr-fallback\"><pre>LogisticRegression()</pre><b>In a Jupyter environment, please rerun this cell to show the HTML representation or trust the notebook. <br />On GitHub, the HTML representation is unable to render, please try loading this page with nbviewer.org.</b></div><div class=\"sk-container\" hidden><div class=\"sk-item\"><div class=\"sk-estimator sk-toggleable\"><input class=\"sk-toggleable__control sk-hidden--visually\" id=\"sk-estimator-id-3\" type=\"checkbox\" checked><label for=\"sk-estimator-id-3\" class=\"sk-toggleable__label sk-toggleable__label-arrow\">LogisticRegression</label><div class=\"sk-toggleable__content\"><pre>LogisticRegression()</pre></div></div></div></div></div>"
      ],
      "text/plain": [
       "LogisticRegression()"
      ]
     },
     "execution_count": 44,
     "metadata": {},
     "output_type": "execute_result"
    }
   ],
   "source": [
    "model = LogisticRegression()\n",
    "model.fit(X_train,y_train)"
   ]
  },
  {
   "cell_type": "code",
   "execution_count": 29,
   "id": "f25e8b35",
   "metadata": {},
   "outputs": [
    {
     "name": "stdout",
     "output_type": "stream",
     "text": [
      "Train accuracy:  0.9921630094043887\n"
     ]
    }
   ],
   "source": [
    "# on training set\n",
    "train_y_prediction = model.predict(X_train)\n",
    "# print and compare with training \n",
    "print('Train accuracy: ', accuracy_score(train_y_prediction, y_train))"
   ]
  },
  {
   "cell_type": "code",
   "execution_count": 31,
   "id": "66665e06",
   "metadata": {},
   "outputs": [
    {
     "name": "stdout",
     "output_type": "stream",
     "text": [
      "Test accuracy 0.9674185463659147\n"
     ]
    }
   ],
   "source": [
    "# on testing set\n",
    "testing_y_prediction = model.predict(X_test)\n",
    "print('Test accuracy',accuracy_score(testing_y_prediction,y_test))"
   ]
  },
  {
   "cell_type": "markdown",
   "id": "7c370dd5",
   "metadata": {},
   "source": [
    "### Confusion Matrix from Logistic Regression "
   ]
  },
  {
   "cell_type": "code",
   "execution_count": 52,
   "id": "98bee42a",
   "metadata": {},
   "outputs": [],
   "source": [
    "# make predictions on the test set\n",
    "y_pred = model.predict(X_test)"
   ]
  },
  {
   "cell_type": "code",
   "execution_count": 53,
   "id": "327eeb6b",
   "metadata": {},
   "outputs": [],
   "source": [
    "# obtain the true labels from the test set\n",
    "y_true = y_test"
   ]
  },
  {
   "cell_type": "code",
   "execution_count": 55,
   "id": "188e9370",
   "metadata": {},
   "outputs": [],
   "source": [
    "from sklearn.metrics import confusion_matrix\n",
    "confusionMatrix = confusion_matrix(y_true, y_pred)"
   ]
  },
  {
   "cell_type": "code",
   "execution_count": 56,
   "id": "960a1d56",
   "metadata": {},
   "outputs": [
    {
     "name": "stdout",
     "output_type": "stream",
     "text": [
      "[[405  19]\n",
      " [  7 367]]\n"
     ]
    }
   ],
   "source": [
    "print(confusionMatrix)"
   ]
  },
  {
   "cell_type": "markdown",
   "id": "cde010a8",
   "metadata": {},
   "source": [
    "### Above confusion matrix describes as follows:\n",
    "#### 405 - True Negative (TN) - count of true negatives (correctly predicted negatives)\n",
    "#### 19 - False Positive (FP) -count of false positives (incorrectly predicted positives)\n",
    "#### 7 - False Negative (FN) - count of false negatives (incorrectly predicted negatives)\n",
    "#### 367 - True Positive (TP) - count of true positives (correctly predicted positives)"
   ]
  },
  {
   "cell_type": "markdown",
   "id": "265608bc",
   "metadata": {},
   "source": [
    "### Apply Decision Tree Classifier"
   ]
  },
  {
   "cell_type": "code",
   "execution_count": 35,
   "id": "8d10f99b",
   "metadata": {},
   "outputs": [],
   "source": [
    "\n",
    "from sklearn.tree import DecisionTreeClassifier"
   ]
  },
  {
   "cell_type": "code",
   "execution_count": 36,
   "id": "a8811d00",
   "metadata": {},
   "outputs": [],
   "source": [
    "dt = DecisionTreeClassifier()"
   ]
  },
  {
   "cell_type": "code",
   "execution_count": 37,
   "id": "a678657f",
   "metadata": {},
   "outputs": [
    {
     "data": {
      "text/html": [
       "<style>#sk-container-id-2 {color: black;background-color: white;}#sk-container-id-2 pre{padding: 0;}#sk-container-id-2 div.sk-toggleable {background-color: white;}#sk-container-id-2 label.sk-toggleable__label {cursor: pointer;display: block;width: 100%;margin-bottom: 0;padding: 0.3em;box-sizing: border-box;text-align: center;}#sk-container-id-2 label.sk-toggleable__label-arrow:before {content: \"▸\";float: left;margin-right: 0.25em;color: #696969;}#sk-container-id-2 label.sk-toggleable__label-arrow:hover:before {color: black;}#sk-container-id-2 div.sk-estimator:hover label.sk-toggleable__label-arrow:before {color: black;}#sk-container-id-2 div.sk-toggleable__content {max-height: 0;max-width: 0;overflow: hidden;text-align: left;background-color: #f0f8ff;}#sk-container-id-2 div.sk-toggleable__content pre {margin: 0.2em;color: black;border-radius: 0.25em;background-color: #f0f8ff;}#sk-container-id-2 input.sk-toggleable__control:checked~div.sk-toggleable__content {max-height: 200px;max-width: 100%;overflow: auto;}#sk-container-id-2 input.sk-toggleable__control:checked~label.sk-toggleable__label-arrow:before {content: \"▾\";}#sk-container-id-2 div.sk-estimator input.sk-toggleable__control:checked~label.sk-toggleable__label {background-color: #d4ebff;}#sk-container-id-2 div.sk-label input.sk-toggleable__control:checked~label.sk-toggleable__label {background-color: #d4ebff;}#sk-container-id-2 input.sk-hidden--visually {border: 0;clip: rect(1px 1px 1px 1px);clip: rect(1px, 1px, 1px, 1px);height: 1px;margin: -1px;overflow: hidden;padding: 0;position: absolute;width: 1px;}#sk-container-id-2 div.sk-estimator {font-family: monospace;background-color: #f0f8ff;border: 1px dotted black;border-radius: 0.25em;box-sizing: border-box;margin-bottom: 0.5em;}#sk-container-id-2 div.sk-estimator:hover {background-color: #d4ebff;}#sk-container-id-2 div.sk-parallel-item::after {content: \"\";width: 100%;border-bottom: 1px solid gray;flex-grow: 1;}#sk-container-id-2 div.sk-label:hover label.sk-toggleable__label {background-color: #d4ebff;}#sk-container-id-2 div.sk-serial::before {content: \"\";position: absolute;border-left: 1px solid gray;box-sizing: border-box;top: 0;bottom: 0;left: 50%;z-index: 0;}#sk-container-id-2 div.sk-serial {display: flex;flex-direction: column;align-items: center;background-color: white;padding-right: 0.2em;padding-left: 0.2em;position: relative;}#sk-container-id-2 div.sk-item {position: relative;z-index: 1;}#sk-container-id-2 div.sk-parallel {display: flex;align-items: stretch;justify-content: center;background-color: white;position: relative;}#sk-container-id-2 div.sk-item::before, #sk-container-id-2 div.sk-parallel-item::before {content: \"\";position: absolute;border-left: 1px solid gray;box-sizing: border-box;top: 0;bottom: 0;left: 50%;z-index: -1;}#sk-container-id-2 div.sk-parallel-item {display: flex;flex-direction: column;z-index: 1;position: relative;background-color: white;}#sk-container-id-2 div.sk-parallel-item:first-child::after {align-self: flex-end;width: 50%;}#sk-container-id-2 div.sk-parallel-item:last-child::after {align-self: flex-start;width: 50%;}#sk-container-id-2 div.sk-parallel-item:only-child::after {width: 0;}#sk-container-id-2 div.sk-dashed-wrapped {border: 1px dashed gray;margin: 0 0.4em 0.5em 0.4em;box-sizing: border-box;padding-bottom: 0.4em;background-color: white;}#sk-container-id-2 div.sk-label label {font-family: monospace;font-weight: bold;display: inline-block;line-height: 1.2em;}#sk-container-id-2 div.sk-label-container {text-align: center;}#sk-container-id-2 div.sk-container {/* jupyter's `normalize.less` sets `[hidden] { display: none; }` but bootstrap.min.css set `[hidden] { display: none !important; }` so we also need the `!important` here to be able to override the default hidden behavior on the sphinx rendered scikit-learn.org. See: https://github.com/scikit-learn/scikit-learn/issues/21755 */display: inline-block !important;position: relative;}#sk-container-id-2 div.sk-text-repr-fallback {display: none;}</style><div id=\"sk-container-id-2\" class=\"sk-top-container\"><div class=\"sk-text-repr-fallback\"><pre>DecisionTreeClassifier()</pre><b>In a Jupyter environment, please rerun this cell to show the HTML representation or trust the notebook. <br />On GitHub, the HTML representation is unable to render, please try loading this page with nbviewer.org.</b></div><div class=\"sk-container\" hidden><div class=\"sk-item\"><div class=\"sk-estimator sk-toggleable\"><input class=\"sk-toggleable__control sk-hidden--visually\" id=\"sk-estimator-id-2\" type=\"checkbox\" checked><label for=\"sk-estimator-id-2\" class=\"sk-toggleable__label sk-toggleable__label-arrow\">DecisionTreeClassifier</label><div class=\"sk-toggleable__content\"><pre>DecisionTreeClassifier()</pre></div></div></div></div></div>"
      ],
      "text/plain": [
       "DecisionTreeClassifier()"
      ]
     },
     "execution_count": 37,
     "metadata": {},
     "output_type": "execute_result"
    }
   ],
   "source": [
    "dt.fit(X_train,y_train)"
   ]
  },
  {
   "cell_type": "code",
   "execution_count": 45,
   "id": "38987c4e",
   "metadata": {},
   "outputs": [
    {
     "data": {
      "text/plain": [
       "1.0"
      ]
     },
     "execution_count": 45,
     "metadata": {},
     "output_type": "execute_result"
    }
   ],
   "source": [
    "# accuracy rate of DecisionTreeClassifier model on training set\n",
    "dt.score(X_train,y_train)"
   ]
  },
  {
   "cell_type": "markdown",
   "id": "9f39e9f2",
   "metadata": {},
   "source": [
    "### Apply Random Forest Classifier "
   ]
  },
  {
   "cell_type": "code",
   "execution_count": 47,
   "id": "e7a17af4",
   "metadata": {},
   "outputs": [],
   "source": [
    "from sklearn.ensemble import RandomForestClassifier"
   ]
  },
  {
   "cell_type": "code",
   "execution_count": 48,
   "id": "7a335e56",
   "metadata": {},
   "outputs": [],
   "source": [
    "modelRF = RandomForestClassifier(random_state = 0)"
   ]
  },
  {
   "cell_type": "code",
   "execution_count": 49,
   "id": "8f6a80db",
   "metadata": {},
   "outputs": [
    {
     "data": {
      "text/html": [
       "<style>#sk-container-id-4 {color: black;background-color: white;}#sk-container-id-4 pre{padding: 0;}#sk-container-id-4 div.sk-toggleable {background-color: white;}#sk-container-id-4 label.sk-toggleable__label {cursor: pointer;display: block;width: 100%;margin-bottom: 0;padding: 0.3em;box-sizing: border-box;text-align: center;}#sk-container-id-4 label.sk-toggleable__label-arrow:before {content: \"▸\";float: left;margin-right: 0.25em;color: #696969;}#sk-container-id-4 label.sk-toggleable__label-arrow:hover:before {color: black;}#sk-container-id-4 div.sk-estimator:hover label.sk-toggleable__label-arrow:before {color: black;}#sk-container-id-4 div.sk-toggleable__content {max-height: 0;max-width: 0;overflow: hidden;text-align: left;background-color: #f0f8ff;}#sk-container-id-4 div.sk-toggleable__content pre {margin: 0.2em;color: black;border-radius: 0.25em;background-color: #f0f8ff;}#sk-container-id-4 input.sk-toggleable__control:checked~div.sk-toggleable__content {max-height: 200px;max-width: 100%;overflow: auto;}#sk-container-id-4 input.sk-toggleable__control:checked~label.sk-toggleable__label-arrow:before {content: \"▾\";}#sk-container-id-4 div.sk-estimator input.sk-toggleable__control:checked~label.sk-toggleable__label {background-color: #d4ebff;}#sk-container-id-4 div.sk-label input.sk-toggleable__control:checked~label.sk-toggleable__label {background-color: #d4ebff;}#sk-container-id-4 input.sk-hidden--visually {border: 0;clip: rect(1px 1px 1px 1px);clip: rect(1px, 1px, 1px, 1px);height: 1px;margin: -1px;overflow: hidden;padding: 0;position: absolute;width: 1px;}#sk-container-id-4 div.sk-estimator {font-family: monospace;background-color: #f0f8ff;border: 1px dotted black;border-radius: 0.25em;box-sizing: border-box;margin-bottom: 0.5em;}#sk-container-id-4 div.sk-estimator:hover {background-color: #d4ebff;}#sk-container-id-4 div.sk-parallel-item::after {content: \"\";width: 100%;border-bottom: 1px solid gray;flex-grow: 1;}#sk-container-id-4 div.sk-label:hover label.sk-toggleable__label {background-color: #d4ebff;}#sk-container-id-4 div.sk-serial::before {content: \"\";position: absolute;border-left: 1px solid gray;box-sizing: border-box;top: 0;bottom: 0;left: 50%;z-index: 0;}#sk-container-id-4 div.sk-serial {display: flex;flex-direction: column;align-items: center;background-color: white;padding-right: 0.2em;padding-left: 0.2em;position: relative;}#sk-container-id-4 div.sk-item {position: relative;z-index: 1;}#sk-container-id-4 div.sk-parallel {display: flex;align-items: stretch;justify-content: center;background-color: white;position: relative;}#sk-container-id-4 div.sk-item::before, #sk-container-id-4 div.sk-parallel-item::before {content: \"\";position: absolute;border-left: 1px solid gray;box-sizing: border-box;top: 0;bottom: 0;left: 50%;z-index: -1;}#sk-container-id-4 div.sk-parallel-item {display: flex;flex-direction: column;z-index: 1;position: relative;background-color: white;}#sk-container-id-4 div.sk-parallel-item:first-child::after {align-self: flex-end;width: 50%;}#sk-container-id-4 div.sk-parallel-item:last-child::after {align-self: flex-start;width: 50%;}#sk-container-id-4 div.sk-parallel-item:only-child::after {width: 0;}#sk-container-id-4 div.sk-dashed-wrapped {border: 1px dashed gray;margin: 0 0.4em 0.5em 0.4em;box-sizing: border-box;padding-bottom: 0.4em;background-color: white;}#sk-container-id-4 div.sk-label label {font-family: monospace;font-weight: bold;display: inline-block;line-height: 1.2em;}#sk-container-id-4 div.sk-label-container {text-align: center;}#sk-container-id-4 div.sk-container {/* jupyter's `normalize.less` sets `[hidden] { display: none; }` but bootstrap.min.css set `[hidden] { display: none !important; }` so we also need the `!important` here to be able to override the default hidden behavior on the sphinx rendered scikit-learn.org. See: https://github.com/scikit-learn/scikit-learn/issues/21755 */display: inline-block !important;position: relative;}#sk-container-id-4 div.sk-text-repr-fallback {display: none;}</style><div id=\"sk-container-id-4\" class=\"sk-top-container\"><div class=\"sk-text-repr-fallback\"><pre>RandomForestClassifier(random_state=0)</pre><b>In a Jupyter environment, please rerun this cell to show the HTML representation or trust the notebook. <br />On GitHub, the HTML representation is unable to render, please try loading this page with nbviewer.org.</b></div><div class=\"sk-container\" hidden><div class=\"sk-item\"><div class=\"sk-estimator sk-toggleable\"><input class=\"sk-toggleable__control sk-hidden--visually\" id=\"sk-estimator-id-4\" type=\"checkbox\" checked><label for=\"sk-estimator-id-4\" class=\"sk-toggleable__label sk-toggleable__label-arrow\">RandomForestClassifier</label><div class=\"sk-toggleable__content\"><pre>RandomForestClassifier(random_state=0)</pre></div></div></div></div></div>"
      ],
      "text/plain": [
       "RandomForestClassifier(random_state=0)"
      ]
     },
     "execution_count": 49,
     "metadata": {},
     "output_type": "execute_result"
    }
   ],
   "source": [
    "modelRF.fit(X_train, y_train)"
   ]
  },
  {
   "cell_type": "code",
   "execution_count": 50,
   "id": "4db470ff",
   "metadata": {},
   "outputs": [
    {
     "data": {
      "text/plain": [
       "1.0"
      ]
     },
     "execution_count": 50,
     "metadata": {},
     "output_type": "execute_result"
    }
   ],
   "source": [
    "# accuracy rate of on training set\n",
    "modelRF.score(X_train,y_train)"
   ]
  },
  {
   "cell_type": "markdown",
   "id": "d66aae3f",
   "metadata": {},
   "source": [
    "### Evaluation "
   ]
  },
  {
   "cell_type": "code",
   "execution_count": 51,
   "id": "ca7141fc",
   "metadata": {},
   "outputs": [
    {
     "name": "stdout",
     "output_type": "stream",
     "text": [
      "Prediction result from Logistic Regression is : Real\n",
      "Prediction result from Decision Tree is : Real\n",
      "Prediction result from Random Forest is : Real\n"
     ]
    }
   ],
   "source": [
    "# manually testing by taking input from the user\n",
    "def getResult(prediction):\n",
    "    if(prediction[0] == 1):\n",
    "        return 'Fake'\n",
    "    else:\n",
    "        return 'Real'\n",
    "        \n",
    "        \n",
    "        \n",
    "inputData = X_test[321]\n",
    "\n",
    "predictLR = model.predict(inputData)\n",
    "print(\"Prediction result from Logistic Regression is :\", getResult(predictLR))\n",
    "\n",
    "\n",
    "predictDT = dt.predict(inputData)\n",
    "print(\"Prediction result from Decision Tree is :\", getResult(predictDT))\n",
    "\n",
    "predictRF = modelRF.predict(inputData)\n",
    "print(\"Prediction result from Random Forest is :\", getResult(predictRF))\n",
    "\n"
   ]
  },
  {
   "cell_type": "code",
   "execution_count": null,
   "id": "7d260469",
   "metadata": {},
   "outputs": [],
   "source": []
  }
 ],
 "metadata": {
  "kernelspec": {
   "display_name": "Python 3 (ipykernel)",
   "language": "python",
   "name": "python3"
  },
  "language_info": {
   "codemirror_mode": {
    "name": "ipython",
    "version": 3
   },
   "file_extension": ".py",
   "mimetype": "text/x-python",
   "name": "python",
   "nbconvert_exporter": "python",
   "pygments_lexer": "ipython3",
   "version": "3.10.9"
  }
 },
 "nbformat": 4,
 "nbformat_minor": 5
}
